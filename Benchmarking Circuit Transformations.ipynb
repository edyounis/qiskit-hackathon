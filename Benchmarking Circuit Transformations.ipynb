{
 "cells": [
  {
   "cell_type": "code",
   "execution_count": 1,
   "metadata": {},
   "outputs": [
    {
     "name": "stderr",
     "output_type": "stream",
     "text": [
      "/usr/lib/python3.7/site-packages/marshmallow/schema.py:364: ChangedInMarshmallow3Warning: strict=False is not recommended. In marshmallow 3.0, schemas will always be strict. See https://marshmallow.readthedocs.io/en/latest/upgrading.html#schemas-are-always-strict\n",
      "  ChangedInMarshmallow3Warning\n"
     ]
    }
   ],
   "source": [
    "from transformer_analysis import evaluate_transformer"
   ]
  },
  {
   "cell_type": "code",
   "execution_count": 2,
   "metadata": {},
   "outputs": [],
   "source": [
    "from qiskit.transpiler import transpile\n",
    "from qiskit.transpiler import PassManager\n",
    "from qiskit.transpiler.passes import *\n",
    "from qiskit.transpiler.passes.mapping import *\n",
    "from qiskit import BasicAer\n",
    "from qiskit.mapper import CouplingMap\n",
    "from qiskit import IBMQ\n",
    "from qiskit import QuantumRegister, QuantumCircuit"
   ]
  },
  {
   "cell_type": "code",
   "execution_count": 3,
   "metadata": {},
   "outputs": [],
   "source": [
    "IBMQ.load_accounts()"
   ]
  },
  {
   "cell_type": "code",
   "execution_count": 4,
   "metadata": {},
   "outputs": [],
   "source": [
    "backend = BasicAer.get_backend( 'qasm_simulator' )\n",
    "backend_qx4 = IBMQ.get_backend( 'ibmqx2' )\n",
    "\n",
    "pm_optimize = PassManager()\n",
    "pm_optimize.append( CXCancellation()  )\n",
    "pm_optimize.append( Optimize1qGates() )\n",
    "\n",
    "pm_unroll = PassManager()\n",
    "pm_unroll.append( Unroller( ['u3', 'cx'] ) )"
   ]
  },
  {
   "cell_type": "code",
   "execution_count": 5,
   "metadata": {},
   "outputs": [],
   "source": [
    "couplingmap = CouplingMap([ [0, 1], [0, 2] ])"
   ]
  },
  {
   "cell_type": "code",
   "execution_count": 6,
   "metadata": {},
   "outputs": [],
   "source": [
    "def simple_optimize ( circuit ):\n",
    "    for i in range( 3 ):\n",
    "        circuit = transpile( circuit, backend, pass_manager=pm_optimize )\n",
    "    return circuit\n",
    "\n",
    "def simple_unroll ( circuit ):\n",
    "    return transpile( circuit, backend, pass_manager=pm_unroll )"
   ]
  },
  {
   "cell_type": "code",
   "execution_count": 7,
   "metadata": {},
   "outputs": [],
   "source": [
    "def basic_compiler ( circuit ):\n",
    "    circuit = simple_optimize( circuit )\n",
    "    circuit = transpile( circuit, backend, pass_manager=PassManager( BasicSwap( couplingmap ) ) )\n",
    "    circuit = simple_optimize( circuit )\n",
    "    return circuit"
   ]
  },
  {
   "cell_type": "code",
   "execution_count": 8,
   "metadata": {},
   "outputs": [],
   "source": [
    "def lookahead_compiler ( circuit ):\n",
    "    circuit = simple_optimize( circuit )\n",
    "    circuit = transpile( circuit, backend, pass_manager=PassManager( LookaheadSwap( couplingmap ) ) )\n",
    "    circuit = simple_optimize( circuit )\n",
    "    return circuit"
   ]
  },
  {
   "cell_type": "code",
   "execution_count": 9,
   "metadata": {},
   "outputs": [],
   "source": [
    "def stochastic_compiler ( circuit ):\n",
    "    circuit = simple_optimize( circuit )\n",
    "    circuit = transpile( circuit, backend, pass_manager=PassManager( StochasticSwap( couplingmap ) ) )\n",
    "    circuit = simple_optimize( circuit )\n",
    "    return circuit"
   ]
  },
  {
   "cell_type": "code",
   "execution_count": 10,
   "metadata": {},
   "outputs": [
    {
     "data": {
      "text/plain": [
       "<qiskit.extensions.standard.ccx.ToffoliGate at 0x7f4823b57f60>"
      ]
     },
     "execution_count": 10,
     "metadata": {},
     "output_type": "execute_result"
    }
   ],
   "source": [
    "qreg = QuantumRegister( 3, 'q' )\n",
    "circ = QuantumCircuit( qreg )\n",
    "circ.ccx( qreg[0], qreg[1], qreg[2] )"
   ]
  },
  {
   "cell_type": "code",
   "execution_count": 11,
   "metadata": {},
   "outputs": [
    {
     "data": {
      "text/plain": [
       "0.5759259307739605"
      ]
     },
     "execution_count": 11,
     "metadata": {},
     "output_type": "execute_result"
    }
   ],
   "source": [
    "evaluate_transformer( stochastic_compiler )"
   ]
  },
  {
   "cell_type": "code",
   "execution_count": 12,
   "metadata": {},
   "outputs": [
    {
     "data": {
      "text/plain": [
       "0.23041557580111918"
      ]
     },
     "execution_count": 12,
     "metadata": {},
     "output_type": "execute_result"
    }
   ],
   "source": [
    "evaluate_transformer( lookahead_compiler )"
   ]
  },
  {
   "cell_type": "code",
   "execution_count": 13,
   "metadata": {},
   "outputs": [
    {
     "data": {
      "text/plain": [
       "0.43593727650212977"
      ]
     },
     "execution_count": 13,
     "metadata": {},
     "output_type": "execute_result"
    }
   ],
   "source": [
    "evaluate_transformer( basic_compiler )"
   ]
  },
  {
   "cell_type": "code",
   "execution_count": null,
   "metadata": {},
   "outputs": [],
   "source": []
  }
 ],
 "metadata": {
  "kernelspec": {
   "display_name": "Python 3",
   "language": "python",
   "name": "python3"
  },
  "language_info": {
   "codemirror_mode": {
    "name": "ipython",
    "version": 3
   },
   "file_extension": ".py",
   "mimetype": "text/x-python",
   "name": "python",
   "nbconvert_exporter": "python",
   "pygments_lexer": "ipython3",
   "version": "3.7.2"
  }
 },
 "nbformat": 4,
 "nbformat_minor": 2
}
