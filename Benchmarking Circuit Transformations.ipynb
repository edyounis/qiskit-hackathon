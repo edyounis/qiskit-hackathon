{
 "cells": [
  {
   "cell_type": "code",
   "execution_count": 1,
   "metadata": {},
   "outputs": [],
   "source": [
    "from transformer_analysis import evaluate_transformer"
   ]
  },
  {
   "cell_type": "code",
   "execution_count": 2,
   "metadata": {},
   "outputs": [],
   "source": [
    "from qiskit.transpiler import transpile\n",
    "from qiskit.transpiler import PassManager\n",
    "from qiskit.transpiler.passes import *\n",
    "from qiskit.transpiler.passes.mapping import *\n",
    "from qiskit import BasicAer\n",
    "from qiskit.mapper import CouplingMap\n",
    "from qiskit import IBMQ\n",
    "from qiskit import QuantumRegister, QuantumCircuit\n",
    "from qiskit import execute, compile\n",
    "\n",
    "from math import pi"
   ]
  },
  {
   "cell_type": "code",
   "execution_count": 3,
   "metadata": {},
   "outputs": [],
   "source": [
    "IBMQ.load_accounts()"
   ]
  },
  {
   "cell_type": "code",
   "execution_count": 4,
   "metadata": {},
   "outputs": [],
   "source": [
    "backend = BasicAer.get_backend( 'qasm_simulator' )\n",
    "backend_qx2 = IBMQ.get_backend( 'ibmqx2' )\n",
    "backend_unitary = BasicAer.get_backend( 'unitary_simulator' )"
   ]
  },
  {
   "cell_type": "code",
   "execution_count": 5,
   "metadata": {},
   "outputs": [],
   "source": [
    "couplingmap = CouplingMap([ [0,1], [0,2] ])"
   ]
  },
  {
   "cell_type": "code",
   "execution_count": 6,
   "metadata": {},
   "outputs": [],
   "source": [
    "def basic_compiler ( circuit ):\n",
    "    pm = PassManager()\n",
    "    pm.append( Unroller( ['u3', 'cx'] ) )\n",
    "    pm.append( CXCancellation()  )\n",
    "    pm.append( Optimize1qGates() )\n",
    "    pm.append( CXCancellation()  )\n",
    "    pm.append( Optimize1qGates() )\n",
    "    pm.append( CXCancellation()  )\n",
    "    pm.append( Optimize1qGates() )\n",
    "    pm.append( TrivialLayout( couplingmap ) )\n",
    "    pm.append( BasicSwap( couplingmap ) )\n",
    "    pm.append( CXDirection( couplingmap ) )\n",
    "    pm.append( CXCancellation()  )\n",
    "    pm.append( Optimize1qGates() )\n",
    "    pm.append( CXCancellation()  )\n",
    "    pm.append( Optimize1qGates() )\n",
    "    pm.append( CXCancellation()  )\n",
    "    pm.append( Optimize1qGates() )\n",
    "    return transpile( circuit, backend, pass_manager=pm )\n",
    "\n",
    "def lookahead_compiler ( circuit ):\n",
    "    pm = PassManager()\n",
    "    pm.append( Unroller( ['u3', 'cx'] ) )\n",
    "    pm.append( CXCancellation()  )\n",
    "    pm.append( Optimize1qGates() )\n",
    "    pm.append( CXCancellation()  )\n",
    "    pm.append( Optimize1qGates() )\n",
    "    pm.append( CXCancellation()  )\n",
    "    pm.append( Optimize1qGates() )\n",
    "    pm.append( TrivialLayout( couplingmap ) )\n",
    "    pm.append( LookaheadSwap( couplingmap ) )\n",
    "    pm.append( CXDirection( couplingmap ) )\n",
    "    pm.append( CXCancellation()  )\n",
    "    pm.append( Optimize1qGates() )\n",
    "    pm.append( CXCancellation()  )\n",
    "    pm.append( Optimize1qGates() )\n",
    "    pm.append( CXCancellation()  )\n",
    "    pm.append( Optimize1qGates() )\n",
    "    return transpile( circuit, backend, pass_manager=pm )\n",
    "\n",
    "def stochastic_compiler ( circuit ):\n",
    "    pm = PassManager()\n",
    "    pm.append( Unroller( ['u3', 'cx'] ) )\n",
    "    pm.append( CXCancellation()  )\n",
    "    pm.append( Optimize1qGates() )\n",
    "    pm.append( CXCancellation()  )\n",
    "    pm.append( Optimize1qGates() )\n",
    "    pm.append( CXCancellation()  )\n",
    "    pm.append( Optimize1qGates() )\n",
    "    pm.append( TrivialLayout( couplingmap ) )\n",
    "    pm.append( StochasticSwap( couplingmap, seed = 0 ) )\n",
    "    pm.append( CXDirection( couplingmap ) )\n",
    "    pm.append( CXCancellation()  )\n",
    "    pm.append( Optimize1qGates() )\n",
    "    pm.append( CXCancellation()  )\n",
    "    pm.append( Optimize1qGates() )\n",
    "    pm.append( CXCancellation()  )\n",
    "    pm.append( Optimize1qGates() )\n",
    "    return transpile( circuit, backend, pass_manager=pm )\n",
    "\n",
    "def no_transformation ( circuit ):\n",
    "    return circuit"
   ]
  },
  {
   "cell_type": "code",
   "execution_count": 7,
   "metadata": {},
   "outputs": [
    {
     "data": {
      "text/plain": [
       "<Figure size 752.5x275.917 with 1 Axes>"
      ]
     },
     "execution_count": 7,
     "metadata": {},
     "output_type": "execute_result"
    }
   ],
   "source": [
    "# Circuit\n",
    "\n",
    "num_qubits = 3; # The number of qubits\n",
    "\n",
    "q = QuantumRegister(num_qubits, 'q')\n",
    "circuit_qft = QuantumCircuit(q)\n",
    "\n",
    "# Start Circuit\n",
    "# Source: https://github.com/Qiskit/qiskit-terra/blob/master/examples/python/qft.py\n",
    "def qft(circ, q, n):\n",
    "    \"\"\"n-qubit QFT on q in circ.\"\"\"\n",
    "    for j in range(n):\n",
    "        for k in range(j):\n",
    "            circ.cu1(pi/float(2**(j-k)), q[j], q[k])\n",
    "        circ.h(q[j])\n",
    "\n",
    "qft( circuit_qft, q, num_qubits )\n",
    "\n",
    "# End Circuit\n",
    "\n",
    "circuit_qft.draw( output='mpl', style = { 'usepiformat': True } )"
   ]
  },
  {
   "cell_type": "code",
   "execution_count": 8,
   "metadata": {},
   "outputs": [
    {
     "data": {
      "image/png": "[encoded data removed]",
      "text/plain": [
       "<Figure size 361.2x198.66 with 1 Axes>"
      ]
     },
     "execution_count": 8,
     "metadata": {},
     "output_type": "execute_result"
    }
   ],
   "source": [
    "q = QuantumRegister( 3, 'q' )\n",
    "circuit_ghz = QuantumCircuit(q)\n",
    "\n",
    "circuit_ghz.h( q[0] )\n",
    "circuit_ghz.cx( q[0], q[1] ) \n",
    "circuit_ghz.cx( q[1], q[2] )\n",
    "\n",
    "circuit_ghz.draw( output='mpl', style = { 'usepiformat': True } )"
   ]
  },
  {
   "cell_type": "code",
   "execution_count": 9,
   "metadata": {},
   "outputs": [],
   "source": [
    "circuit_list = [ circuit_qft, circuit_ghz ]"
   ]
  },
  {
   "cell_type": "code",
   "execution_count": 10,
   "metadata": {},
   "outputs": [
    {
     "data": {
      "text/plain": [
       "0.9962233824452594"
      ]
     },
     "execution_count": 10,
     "metadata": {},
     "output_type": "execute_result"
    }
   ],
   "source": [
    "evaluate_transformer( lookahead_compiler, circuit_list )"
   ]
  },
  {
   "cell_type": "code",
   "execution_count": 11,
   "metadata": {},
   "outputs": [
    {
     "data": {
      "text/plain": [
       "0.9960587055661501"
      ]
     },
     "execution_count": 11,
     "metadata": {},
     "output_type": "execute_result"
    }
   ],
   "source": [
    "evaluate_transformer( basic_compiler, circuit_list )"
   ]
  },
  {
   "cell_type": "code",
   "execution_count": 12,
   "metadata": {},
   "outputs": [
    {
     "data": {
      "text/plain": [
       "0.995420402638552"
      ]
     },
     "execution_count": 12,
     "metadata": {},
     "output_type": "execute_result"
    }
   ],
   "source": [
    "evaluate_transformer( no_transformation, circuit_list )"
   ]
  },
  {
   "cell_type": "code",
   "execution_count": 13,
   "metadata": {},
   "outputs": [
    {
     "data": {
      "text/plain": [
       "0.9962233824452594"
      ]
     },
     "execution_count": 13,
     "metadata": {},
     "output_type": "execute_result"
    }
   ],
   "source": [
    "evaluate_transformer( stochastic_compiler, circuit_list )"
   ]
  },
  {
   "cell_type": "code",
   "execution_count": 14,
   "metadata": {},
   "outputs": [
    {
     "data": {
      "text/plain": [
       "0.9961361583518382"
      ]
     },
     "execution_count": 14,
     "metadata": {},
     "output_type": "execute_result"
    }
   ],
   "source": [
    "evaluate_transformer( lookahead_compiler )"
   ]
  },
  {
   "cell_type": "code",
   "execution_count": 15,
   "metadata": {},
   "outputs": [
    {
     "data": {
      "text/plain": [
       "0.996111074821292"
      ]
     },
     "execution_count": 15,
     "metadata": {},
     "output_type": "execute_result"
    }
   ],
   "source": [
    "evaluate_transformer( basic_compiler )"
   ]
  },
  {
   "cell_type": "code",
   "execution_count": 16,
   "metadata": {},
   "outputs": [
    {
     "data": {
      "text/plain": [
       "0.9960540198655778"
      ]
     },
     "execution_count": 16,
     "metadata": {},
     "output_type": "execute_result"
    }
   ],
   "source": [
    "evaluate_transformer( no_transformation )"
   ]
  },
  {
   "cell_type": "code",
   "execution_count": 17,
   "metadata": {},
   "outputs": [
    {
     "data": {
      "text/plain": [
       "0.9961361583518382"
      ]
     },
     "execution_count": 17,
     "metadata": {},
     "output_type": "execute_result"
    }
   ],
   "source": [
    "evaluate_transformer( stochastic_compiler )"
   ]
  }
 ],
 "metadata": {
  "kernelspec": {
   "display_name": "Python 3",
   "language": "python",
   "name": "python3"
  },
  "language_info": {
   "codemirror_mode": {
    "name": "ipython",
    "version": 3
   },
   "file_extension": ".py",
   "mimetype": "text/x-python",
   "name": "python",
   "nbconvert_exporter": "python",
   "pygments_lexer": "ipython3",
   "version": "3.7.2"
  }
 },
 "nbformat": 4,
 "nbformat_minor": 2
}
